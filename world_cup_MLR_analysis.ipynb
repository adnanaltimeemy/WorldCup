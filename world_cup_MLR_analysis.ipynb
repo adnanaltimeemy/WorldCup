{
 "cells": [
  {
   "cell_type": "markdown",
   "id": "7c165826",
   "metadata": {},
   "source": [
    "\n",
    "# Multiple Linear Regression — World Cup Matches\n",
    "This notebook performs a **multiple linear regression (MLR)** to model and predict **Total Goals** per match using several predictors from the World Cup matches dataset.\n",
    "\n",
    "**Pipeline overview**\n",
    "1. Load & inspect data  \n",
    "2. Feature engineering (create `totalgoals`, `is_knockout`, clean `attendance`)  \n",
    "3. Split into train/test  \n",
    "4. Build an MLR pipeline with:\n",
    "   - Numeric: `SimpleImputer(median)` → `StandardScaler`\n",
    "   - Categorical: `SimpleImputer(most_frequent)` → `OneHotEncoder`\n",
    "5. Fit & evaluate (R², MAE, RMSE, CV-R²)  \n",
    "6. Diagnostics: actual vs predicted, residuals, coefficient inspection\n"
   ]
  },
  {
   "cell_type": "code",
   "execution_count": null,
   "id": "e939a90f",
   "metadata": {},
   "outputs": [],
   "source": [
    "\n",
    "import pandas as pd\n",
    "import numpy as np\n",
    "import matplotlib.pyplot as plt\n",
    "\n",
    "from sklearn.model_selection import train_test_split, cross_val_score\n",
    "from sklearn.compose import ColumnTransformer\n",
    "from sklearn.preprocessing import OneHotEncoder, StandardScaler\n",
    "from sklearn.pipeline import Pipeline\n",
    "from sklearn.impute import SimpleImputer\n",
    "from sklearn.linear_model import LinearRegression\n",
    "from sklearn.metrics import mean_absolute_error, mean_squared_error, r2_score\n",
    "\n",
    "csv_path = \"/mnt/data/WorldCupMatches_cleaned.csv\"\n",
    "df_raw = pd.read_csv(csv_path)\n",
    "df_raw.head(10)\n"
   ]
  },
  {
   "cell_type": "code",
   "execution_count": null,
   "id": "8e320b2b",
   "metadata": {},
   "outputs": [],
   "source": [
    "\n",
    "print(\"Shape:\", df_raw.shape)\n",
    "print(\"\\nColumns:\", list(df_raw.columns))\n",
    "print(\"\\nNull counts:\\n\", df_raw.isna().sum())\n",
    "df_raw.describe(include='all').T.head(20)\n"
   ]
  },
  {
   "cell_type": "markdown",
   "id": "c4994423",
   "metadata": {},
   "source": [
    "## Feature Engineering"
   ]
  },
  {
   "cell_type": "code",
   "execution_count": null,
   "id": "4ead999e",
   "metadata": {},
   "outputs": [],
   "source": [
    "\n",
    "def engineer_features_wc(df: pd.DataFrame) -> pd.DataFrame:\n",
    "    d = df.copy()\n",
    "    d.columns = [c.lower() for c in d.columns]\n",
    "\n",
    "    if \"home_team_goals\" in d.columns and \"away_team_goals\" in d.columns:\n",
    "        d[\"totalgoals\"] = pd.to_numeric(d[\"home_team_goals\"], errors=\"coerce\") +                           pd.to_numeric(d[\"away_team_goals\"], errors=\"coerce\")\n",
    "    else:\n",
    "        raise ValueError(\"Dataset must include 'home_team_goals' and 'away_team_goals'.\")\n",
    "\n",
    "    if \"attendance\" in d.columns:\n",
    "        d[\"attendance\"] = (\n",
    "            d[\"attendance\"].astype(str)\n",
    "            .str.replace(\",\", \"\", regex=False)\n",
    "            .str.extract(r\"(\\d+)\", expand=False)\n",
    "        )\n",
    "        d[\"attendance\"] = pd.to_numeric(d[\"attendance\"], errors=\"coerce\")\n",
    "\n",
    "    if \"year\" in d.columns:\n",
    "        d[\"year\"] = pd.to_numeric(d[\"year\"], errors=\"coerce\")\n",
    "\n",
    "    if \"stage\" in d.columns:\n",
    "        d[\"is_knockout\"] = ~d[\"stage\"].astype(str).str.contains(\"group\", case=False, na=False)\n",
    "        d[\"is_knockout\"] = d[\"is_knockout\"].astype(int)\n",
    "\n",
    "    for col in [\"half-time_home_goals\", \"half-time_away_goals\", \"goal_difference\"]:\n",
    "        if col in d.columns:\n",
    "            d[col] = pd.to_numeric(d[col], errors=\"coerce\")\n",
    "\n",
    "    return d\n",
    "\n",
    "df = engineer_features_wc(df_raw)\n",
    "df.head(10)\n"
   ]
  },
  {
   "cell_type": "markdown",
   "id": "c8f94f78",
   "metadata": {},
   "source": [
    "## Select Predictors (Multiple Linear Regression)"
   ]
  },
  {
   "cell_type": "code",
   "execution_count": null,
   "id": "e0f38828",
   "metadata": {},
   "outputs": [],
   "source": [
    "\n",
    "target = \"totalgoals\"\n",
    "\n",
    "candidate_numeric = [\n",
    "    \"year\", \"attendance\", \"is_knockout\",\n",
    "    \"half-time_home_goals\", \"half-time_away_goals\", \"goal_difference\"\n",
    "]\n",
    "numeric_features = [c for c in candidate_numeric if c in df.columns]\n",
    "\n",
    "candidate_categorical = [\"stage\", \"city\", \"stadium\", \"referee\"]\n",
    "categorical_features = [c for c in candidate_categorical if c in df.columns]\n",
    "\n",
    "feature_cols = numeric_features + categorical_features\n",
    "print(\"Numeric features:\", numeric_features)\n",
    "print(\"Categorical features:\", categorical_features)\n",
    "\n",
    "mask = df[target].notna()\n",
    "df = df.loc[mask].copy()\n",
    "\n",
    "X = df[feature_cols]\n",
    "y = df[target]\n",
    "\n",
    "print(\"X shape:\", X.shape, \"y length:\", len(y))\n"
   ]
  },
  {
   "cell_type": "markdown",
   "id": "0bc81cc1",
   "metadata": {},
   "source": [
    "## Train/Test Split & Pipeline"
   ]
  },
  {
   "cell_type": "code",
   "execution_count": null,
   "id": "dfebf026",
   "metadata": {},
   "outputs": [],
   "source": [
    "\n",
    "X_train, X_test, y_train, y_test = train_test_split(\n",
    "    X, y, test_size=0.2, random_state=42\n",
    ")\n",
    "\n",
    "numeric_pipe = Pipeline([\n",
    "    (\"imputer\", SimpleImputer(strategy=\"median\")),\n",
    "    (\"scaler\", StandardScaler(with_mean=False)),\n",
    "])\n",
    "\n",
    "categorical_pipe = Pipeline([\n",
    "    (\"imputer\", SimpleImputer(strategy=\"most_frequent\")),\n",
    "    (\"ohe\", OneHotEncoder(handle_unknown=\"ignore\", sparse=True)),\n",
    "])\n",
    "\n",
    "preprocess = ColumnTransformer(\n",
    "    transformers=[\n",
    "        (\"num\", numeric_pipe, numeric_features),\n",
    "        (\"cat\", categorical_pipe, categorical_features),\n",
    "    ],\n",
    "    remainder=\"drop\"\n",
    ")\n",
    "\n",
    "mlr = Pipeline([\n",
    "    (\"preprocess\", preprocess),\n",
    "    (\"regressor\", LinearRegression())\n",
    "])\n",
    "\n",
    "mlr.fit(X_train, y_train)\n",
    "y_pred = mlr.predict(X_test)\n",
    "\n",
    "mae = mean_absolute_error(y_test, y_pred)\n",
    "rmse = mean_squared_error(y_test, y_pred, squared=False)\n",
    "r2 = r2_score(y_test, y_pred)\n",
    "\n",
    "print({{\"MAE\": mae, \"RMSE\": rmse, \"R2\": r2}})\n"
   ]
  },
  {
   "cell_type": "markdown",
   "id": "dc2f2aee",
   "metadata": {},
   "source": [
    "## Cross-Validated Performance"
   ]
  },
  {
   "cell_type": "code",
   "execution_count": null,
   "id": "670fe946",
   "metadata": {},
   "outputs": [],
   "source": [
    "\n",
    "if len(X) >= 10:\n",
    "    cv_scores = cross_val_score(mlr, X, y, cv=min(5, len(X)), scoring=\"r2\")\n",
    "    print(\"CV R² scores:\", cv_scores)\n",
    "    print(\"CV R² mean:\", float(np.mean(cv_scores)))\n",
    "else:\n",
    "    print(\"Not enough samples for cross-validation.\")\n"
   ]
  },
  {
   "cell_type": "markdown",
   "id": "a187ce35",
   "metadata": {},
   "source": [
    "## Diagnostics"
   ]
  },
  {
   "cell_type": "code",
   "execution_count": null,
   "id": "9ba9dbff",
   "metadata": {},
   "outputs": [],
   "source": [
    "\n",
    "# Actual vs Predicted\n",
    "plt.figure()\n",
    "plt.scatter(y_test, y_pred)\n",
    "plt.xlabel(\"Actual Total Goals\")\n",
    "plt.ylabel(\"Predicted Total Goals\")\n",
    "plt.title(\"MLR — Actual vs Predicted\")\n",
    "plt.show()\n"
   ]
  },
  {
   "cell_type": "code",
   "execution_count": null,
   "id": "a391e5ca",
   "metadata": {},
   "outputs": [],
   "source": [
    "\n",
    "# Residuals vs Predicted\n",
    "residuals = y_test - y_pred\n",
    "plt.figure()\n",
    "plt.scatter(y_pred, residuals)\n",
    "plt.axhline(0)\n",
    "plt.xlabel(\"Predicted Total Goals\")\n",
    "plt.ylabel(\"Residuals (Actual - Predicted)\")\n",
    "plt.title(\"Residuals vs Predicted\")\n",
    "plt.show()\n"
   ]
  },
  {
   "cell_type": "markdown",
   "id": "d045b3c8",
   "metadata": {},
   "source": [
    "## Coefficients (Feature Effects)"
   ]
  },
  {
   "cell_type": "code",
   "execution_count": null,
   "id": "4ec4b1b6",
   "metadata": {},
   "outputs": [],
   "source": [
    "\n",
    "# Extract feature names after preprocessing\n",
    "ohe = None\n",
    "if len(categorical_features):\n",
    "    ohe = mlr.named_steps[\"preprocess\"].named_transformers_[\"cat\"].named_steps[\"ohe\"]\n",
    "num_names = numeric_features\n",
    "cat_names = list(ohe.get_feature_names_out(categorical_features)) if ohe is not None else []\n",
    "all_feature_names = num_names + cat_names\n",
    "\n",
    "coef = mlr.named_steps[\"regressor\"].coef_\n",
    "coef_df = pd.DataFrame({{\"feature\": all_feature_names, \"coefficient\": coef}})\n",
    "\n",
    "# Top positive\n",
    "coef_df.sort_values(\"coefficient\", ascending=False).head(15)\n"
   ]
  },
  {
   "cell_type": "code",
   "execution_count": null,
   "id": "a4de2192",
   "metadata": {},
   "outputs": [],
   "source": [
    "\n",
    "# Top negative\n",
    "coef_df.sort_values(\"coefficient\", ascending=True).head(15)\n"
   ]
  }
 ],
 "metadata": {},
 "nbformat": 4,
 "nbformat_minor": 5
}
